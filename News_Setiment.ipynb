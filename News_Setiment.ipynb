{
  "nbformat": 4,
  "nbformat_minor": 0,
  "metadata": {
    "colab": {
      "provenance": [],
      "gpuType": "T4",
      "mount_file_id": "1vOAjBWZpYQdgBlGJa3hHOU_nu4aHKx8u",
      "authorship_tag": "ABX9TyPv3LSKrSrXyMVTLJ2LltpN",
      "include_colab_link": true
    },
    "kernelspec": {
      "name": "python3",
      "display_name": "Python 3"
    },
    "language_info": {
      "name": "python"
    },
    "accelerator": "GPU",
    "gpuClass": "standard"
  },
  "cells": [
    {
      "cell_type": "markdown",
      "metadata": {
        "id": "view-in-github",
        "colab_type": "text"
      },
      "source": [
        "<a href=\"https://colab.research.google.com/github/tylerwalkerbrown/stock_analysis/blob/main/News_Setiment.ipynb\" target=\"_parent\"><img src=\"https://colab.research.google.com/assets/colab-badge.svg\" alt=\"Open In Colab\"/></a>"
      ]
    },
    {
      "cell_type": "markdown",
      "source": [
        "## Notes\n",
        "Change Runtime to GPU in Runtime Settings "
      ],
      "metadata": {
        "id": "rGcoETE4dcG6"
      }
    },
    {
      "cell_type": "markdown",
      "source": [
        "## Packages needed for twitter "
      ],
      "metadata": {
        "id": "58CVaVQ4bgcT"
      }
    },
    {
      "cell_type": "code",
      "source": [
        "!pip install spacy==2.2.3\n",
        "!python -m spacy download en_core_web_sm\n",
        "!pip install beautifulsoup4==4.9.1\n",
        "!pip install textblob==0.15.3\n",
        "!pip install git+https://github.com/laxmimerit/preprocess_kgptalkie.git --upgrade --force-reinstall\n",
        "!pip install tensorflow==2.6.0\n",
        "!pip install tf-models-official\n",
        "!pip install --upgrade tensorflow\n",
        "!pip install --upgrade numpy pandas matplotlib seaborn nltk scikit-learn wordcloud"
      ],
      "metadata": {
        "id": "YYXJC6wFqtlb"
      },
      "execution_count": null,
      "outputs": []
    },
    {
      "cell_type": "code",
      "source": [
        "#import os\n",
        "\n",
        "# Specify the folder path\n",
        "#folder_path = '/content/drive/MyDrive/stocks_app'\n",
        "\n",
        "# Create the folder if it doesn't exist\n",
        "#if not os.path.exists(folder_path):\n",
        " #   os.makedirs(folder_path)\n",
        "\n",
        "# Verify if the folder was created\n",
        "#if os.path.exists(folder_path):\n",
        " #   print(\"Folder created successfully.\")\n",
        "#else:\n",
        "  #  print(\"Failed to create the folder.\")\n"
      ],
      "metadata": {
        "colab": {
          "base_uri": "https://localhost:8080/"
        },
        "id": "__f51npUoChH",
        "outputId": "12f76b0d-39cc-4f22-9cec-1615576a94f6"
      },
      "execution_count": null,
      "outputs": [
        {
          "output_type": "stream",
          "name": "stdout",
          "text": [
            "Folder created successfully.\n"
          ]
        }
      ]
    },
    {
      "cell_type": "markdown",
      "source": [
        "## Packages Need for Deeplearning"
      ],
      "metadata": {
        "id": "9o7yaGnRbrSW"
      }
    },
    {
      "cell_type": "code",
      "source": [
        "from tensorflow.keras.preprocessing.text import Tokenizer\n",
        "from tensorflow.keras.preprocessing.sequence import pad_sequences\n",
        "from tensorflow.keras.models import Sequential\n",
        "from tensorflow.keras.layers import Dense, Embedding, LSTM\n",
        "import numpy as np\n",
        "import pandas as pd\n",
        "from sklearn.model_selection import train_test_split\n",
        "from sklearn.preprocessing import LabelEncoder\n",
        "import matplotlib.pyplot as plt\n",
        "import seaborn as sns\n",
        "import nltk\n",
        "import re\n",
        "from wordcloud import WordCloud"
      ],
      "metadata": {
        "id": "fND6QXUnbt1G"
      },
      "execution_count": null,
      "outputs": []
    },
    {
      "cell_type": "code",
      "source": [
        "# Load the data\n",
        "df = pd.read_csv(\"/content/drive/MyDrive/all-data.csv\", encoding='latin-1')\n",
        "\n",
        "y = df.iloc[:, 0].values\n",
        "x = df.iloc[:, 1].values\n",
        "\n",
        "# Convert string labels to numerical values\n",
        "label_encoder = LabelEncoder()\n",
        "y = label_encoder.fit_transform(y)\n",
        "\n",
        "X_train, X_test, y_train, y_test = train_test_split(x, y, test_size=0.2, random_state=42)\n",
        "\n",
        "# Tokenize the text and convert it into sequences\n",
        "tokenizer = Tokenizer()\n",
        "tokenizer.fit_on_texts(X_train)\n",
        "X_train_sequences = tokenizer.texts_to_sequences(X_train)\n",
        "X_test_sequences = tokenizer.texts_to_sequences(X_test)\n",
        "\n",
        "# Pad the sequences to have the same length\n",
        "max_sequence_length = max(len(seq) for seq in X_train_sequences)\n",
        "X_train_padded = pad_sequences(X_train_sequences, maxlen=max_sequence_length)\n",
        "X_test_padded = pad_sequences(X_test_sequences, maxlen=max_sequence_length)\n",
        "\n",
        "# Define the neural network architecture\n",
        "model = Sequential()\n",
        "model.add(Embedding(input_dim=len(tokenizer.word_index) + 1, output_dim=100, input_length=max_sequence_length))\n",
        "model.add(LSTM(units=128))\n",
        "model.add(Dense(units=3, activation=\"softmax\"))  # Use 3 units for multiclass classification\n",
        "\n",
        "# Compile the model\n",
        "model.compile(optimizer=\"adam\", loss=\"sparse_categorical_crossentropy\", metrics=[\"accuracy\"])\n",
        "\n",
        "# Train the model\n",
        "model.fit(X_train_padded, y_train, epochs=5, batch_size=32)\n",
        "\n",
        "# Evaluate the model\n",
        "loss, accuracy = model.evaluate(X_test_padded, y_test)\n",
        "print(f\"Test Loss: {loss}\")\n",
        "print(f\"Test Accuracy: {accuracy}\")\n"
      ],
      "metadata": {
        "colab": {
          "base_uri": "https://localhost:8080/"
        },
        "id": "u08FoDQJlYET",
        "outputId": "d2824b11-a08b-44c5-9201-eaf2c45cfb32"
      },
      "execution_count": null,
      "outputs": [
        {
          "output_type": "stream",
          "name": "stdout",
          "text": [
            "Epoch 1/5\n",
            "122/122 [==============================] - 18s 128ms/step - loss: 0.8321 - accuracy: 0.6409\n",
            "Epoch 2/5\n",
            "122/122 [==============================] - 5s 39ms/step - loss: 0.5322 - accuracy: 0.7761\n",
            "Epoch 3/5\n",
            "122/122 [==============================] - 3s 21ms/step - loss: 0.2714 - accuracy: 0.9030\n",
            "Epoch 4/5\n",
            "122/122 [==============================] - 2s 20ms/step - loss: 0.1218 - accuracy: 0.9582\n",
            "Epoch 5/5\n",
            "122/122 [==============================] - 3s 26ms/step - loss: 0.0752 - accuracy: 0.9796\n",
            "31/31 [==============================] - 1s 6ms/step - loss: 1.1824 - accuracy: 0.7162\n",
            "Test Loss: 1.1824408769607544\n",
            "Test Accuracy: 0.7162022590637207\n"
          ]
        }
      ]
    },
    {
      "cell_type": "code",
      "source": [
        "import os\n",
        "from tensorflow.keras.models import save_model\n",
        "\n",
        "# Define the folder path\n",
        "folder_path = \"/content/drive/MyDrive/stocks_app\"\n",
        "\n",
        "# Create the folder if it doesn't exist\n",
        "if not os.path.exists(folder_path):\n",
        "    os.makedirs(folder_path)\n",
        "\n",
        "# Save the model in the folder\n",
        "model_path = os.path.join(folder_path, \"trained_model.h5\")\n",
        "save_model(model, model_path)\n",
        "\n",
        "# Save other files in the folder\n",
        "file_path = os.path.join(folder_path, \"data.csv\")\n",
        "df.to_csv(file_path, index=False)\n"
      ],
      "metadata": {
        "id": "BHfpdfRUqZWs"
      },
      "execution_count": null,
      "outputs": []
    },
    {
      "cell_type": "code",
      "source": [],
      "metadata": {
        "id": "F1Al7vkyqa35"
      },
      "execution_count": null,
      "outputs": []
    }
  ]
}